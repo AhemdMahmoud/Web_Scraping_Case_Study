{
  "cells": [
    {
      "cell_type": "markdown",
      "metadata": {
        "id": "view-in-github",
        "colab_type": "text"
      },
      "source": [
        "<a href=\"https://colab.research.google.com/github/Ahmedma7moudali/Web_Scraping_Case_Study/blob/main/web%20scraping%20case%20study%20(1).ipynb\" target=\"_parent\"><img src=\"https://colab.research.google.com/assets/colab-badge.svg\" alt=\"Open In Colab\"/></a>"
      ]
    },
    {
      "cell_type": "markdown",
      "id": "285c2ccd",
      "metadata": {
        "id": "285c2ccd"
      },
      "source": [
        "# Web scraping case study_wuzzuf_Job"
      ]
    },
    {
      "cell_type": "markdown",
      "source": [
        "[![Open In Colab](https://colab.research.google.com/assets/colab-badge.svg)](https://github.com/Ahmedma7moudali/Web_Scraping_Case_Study/blob/main/web%20scraping%20case%20study%20(1).ipynb)\n"
      ],
      "metadata": {
        "id": "eNrlmg7tewUd"
      },
      "id": "eNrlmg7tewUd"
    },
    {
      "cell_type": "code",
      "source": [],
      "metadata": {
        "id": "5DjyczYje5xQ"
      },
      "id": "5DjyczYje5xQ",
      "execution_count": null,
      "outputs": []
    },
    {
      "cell_type": "code",
      "execution_count": null,
      "id": "50b66bd1",
      "metadata": {
        "id": "50b66bd1"
      },
      "outputs": [],
      "source": [
        "# import libraries\n",
        "import numpy as np\n",
        "import matplotlib.pyplot as plt\n",
        "import pandas as pd \n",
        "import seaborn as sns \n"
      ]
    },
    {
      "cell_type": "code",
      "execution_count": null,
      "id": "a3c3ae88",
      "metadata": {
        "id": "a3c3ae88"
      },
      "outputs": [],
      "source": [
        "# import libraries/ \n",
        "from bs4 import BeautifulSoup as bs\n",
        "import requests\n"
      ]
    },
    {
      "cell_type": "code",
      "execution_count": null,
      "id": "12105009",
      "metadata": {
        "id": "12105009"
      },
      "outputs": [],
      "source": [
        "from urllib.request import urlopen"
      ]
    },
    {
      "cell_type": "code",
      "execution_count": null,
      "id": "c5fc47e7",
      "metadata": {
        "id": "c5fc47e7"
      },
      "outputs": [],
      "source": [
        "# inputting The URl\n",
        "url='https://wuzzuf.net/search/jobs/?a=hpb%7Cspbg&q=data%20analysis'"
      ]
    },
    {
      "cell_type": "code",
      "execution_count": null,
      "id": "b095e2bc",
      "metadata": {
        "id": "b095e2bc"
      },
      "outputs": [],
      "source": [
        "# ctreat a client basedb request to get url\n",
        "client=urlopen(url)"
      ]
    },
    {
      "cell_type": "code",
      "execution_count": null,
      "id": "42d983cc",
      "metadata": {
        "id": "42d983cc"
      },
      "outputs": [],
      "source": [
        "# Getting  the HtmL code of the  full Pagehtm\n",
        "html=client.read()\n"
      ]
    },
    {
      "cell_type": "code",
      "execution_count": null,
      "id": "9ff701f5",
      "metadata": {
        "id": "9ff701f5"
      },
      "outputs": [],
      "source": [
        "# closing the Request \n",
        "client.close()"
      ]
    },
    {
      "cell_type": "code",
      "execution_count": null,
      "id": "0a51f193",
      "metadata": {
        "id": "0a51f193"
      },
      "outputs": [],
      "source": [
        "# Creating an html parser using Beautifulsoup\n",
        "soup=bs(html,\"html.parser\")\n"
      ]
    },
    {
      "cell_type": "code",
      "execution_count": null,
      "id": "62b1b105",
      "metadata": {
        "id": "62b1b105",
        "outputId": "c6c72009-744f-4489-baa4-dc570cd5dccd"
      },
      "outputs": [
        {
          "data": {
            "text/plain": [
              "15"
            ]
          },
          "execution_count": 177,
          "metadata": {},
          "output_type": "execute_result"
        }
      ],
      "source": [
        "# Creating a container for nededed data\n",
        "containers =soup.find_all(\"div\",{\"class\":\"css-1gatmva e1v1l3u10\"})\n",
        "len(containers)"
      ]
    },
    {
      "cell_type": "code",
      "execution_count": null,
      "id": "07b7a29f",
      "metadata": {
        "id": "07b7a29f"
      },
      "outputs": [],
      "source": [
        "s=bs.prettify(containers[0])"
      ]
    },
    {
      "cell_type": "code",
      "execution_count": null,
      "id": "e45081bf",
      "metadata": {
        "id": "e45081bf"
      },
      "outputs": [],
      "source": [
        "# Accessing page Elements \n",
        "jtitle=containers[0].div.h2.text"
      ]
    },
    {
      "cell_type": "code",
      "execution_count": null,
      "id": "55535a2d",
      "metadata": {
        "id": "55535a2d",
        "outputId": "13a04f62-f6db-4b64-ca9e-2465a08ad30b"
      },
      "outputs": [
        {
          "data": {
            "text/plain": [
              "'Data Analysis/Analytics Instructor (Excel - Power BI)'"
            ]
          },
          "execution_count": 180,
          "metadata": {},
          "output_type": "execute_result"
        }
      ],
      "source": [
        "jtitle=containers[0].findAll(\"a\",{\"class\":\"css-o171kl\"})\n",
        "jtitle[0].text"
      ]
    },
    {
      "cell_type": "code",
      "execution_count": null,
      "id": "1053a51d",
      "metadata": {
        "id": "1053a51d",
        "outputId": "d4a68bdf-57cf-49c6-da72-6d73b7d065ea"
      },
      "outputs": [
        {
          "data": {
            "text/plain": [
              "'EpsilonAI -'"
            ]
          },
          "execution_count": 181,
          "metadata": {},
          "output_type": "execute_result"
        }
      ],
      "source": [
        "cname=containers[0].findAll(\"a\",{\"class\":\"css-17s97q8\"})\n",
        "cname[0].text"
      ]
    },
    {
      "cell_type": "code",
      "execution_count": null,
      "id": "bc1662b2",
      "metadata": {
        "id": "bc1662b2",
        "outputId": "244a0c76-6b83-448b-97f5-b928eacddc82"
      },
      "outputs": [
        {
          "data": {
            "text/plain": [
              "'Full Time'"
            ]
          },
          "execution_count": 182,
          "metadata": {},
          "output_type": "execute_result"
        }
      ],
      "source": [
        "jtype=containers[0].findAll(\"a\",{\"class\":\"css-n2jc4m\" })\n",
        "jtype[0].text"
      ]
    },
    {
      "cell_type": "code",
      "execution_count": null,
      "id": "7211dd25",
      "metadata": {
        "id": "7211dd25",
        "outputId": "da67310c-5fe2-42c0-81d1-da170afe26aa"
      },
      "outputs": [
        {
          "data": {
            "text/plain": [
              "32"
            ]
          },
          "execution_count": 183,
          "metadata": {},
          "output_type": "execute_result"
        }
      ],
      "source": [
        "# Bringing it All Together\n",
        "f=open(\"Downloads/wuzzuf-data_j.csv\",\"w\")\n",
        "header=\"job_title,company_name,job_type\\n\"\n",
        "f.write(header)"
      ]
    },
    {
      "cell_type": "code",
      "execution_count": null,
      "id": "1eef67d7",
      "metadata": {
        "id": "1eef67d7"
      },
      "outputs": [],
      "source": [
        "for container in containers:\n",
        "    \n",
        "    jtitle=container.findAll(\"a\",{\"class\":\"css-o171kl\"})\n",
        "    Job_title=jtitle[0].text.strip()\n",
        "    \n",
        "    cname=container.findAll(\"a\",{\"class\":\"css-17s97q8\"})\n",
        "    Company_name=cname[0].text.strip()\n",
        "    \n",
        "    jtype=container.findAll(\"a\",{\"class\":\"css-n2jc4m\" })\n",
        "    job_type=jtype[0].text.strip()\n",
        "    \n",
        "    \n",
        "   \n",
        "\n",
        "\n",
        "    \n",
        "    f.write(Job_title + \",\" + Company_name + \",\" + job_type+\"\\n\")\n",
        "f.close()"
      ]
    },
    {
      "cell_type": "code",
      "execution_count": null,
      "id": "671aa6f8",
      "metadata": {
        "id": "671aa6f8"
      },
      "outputs": [],
      "source": [
        "# inputting the File into Pandas \n",
        "Wuzzuf=pd.read_csv(\"Downloads/wuzzuf-data_j.csv\")"
      ]
    },
    {
      "cell_type": "code",
      "execution_count": null,
      "id": "888b04f6",
      "metadata": {
        "id": "888b04f6",
        "outputId": "eae81a31-245f-4e3f-8c5a-b56a1da29aa5"
      },
      "outputs": [
        {
          "data": {
            "text/plain": [
              "Index(['job_title', 'company_name', 'job_type'], dtype='object')"
            ]
          },
          "execution_count": 186,
          "metadata": {},
          "output_type": "execute_result"
        }
      ],
      "source": [
        "Wuzzuf.columns"
      ]
    },
    {
      "cell_type": "code",
      "execution_count": null,
      "id": "553f8bcd",
      "metadata": {
        "id": "553f8bcd",
        "outputId": "deb5c52f-9908-44b4-80dd-0c15851e2189"
      },
      "outputs": [
        {
          "data": {
            "text/html": [
              "<div>\n",
              "<style scoped>\n",
              "    .dataframe tbody tr th:only-of-type {\n",
              "        vertical-align: middle;\n",
              "    }\n",
              "\n",
              "    .dataframe tbody tr th {\n",
              "        vertical-align: top;\n",
              "    }\n",
              "\n",
              "    .dataframe thead th {\n",
              "        text-align: right;\n",
              "    }\n",
              "</style>\n",
              "<table border=\"1\" class=\"dataframe\">\n",
              "  <thead>\n",
              "    <tr style=\"text-align: right;\">\n",
              "      <th></th>\n",
              "      <th>job_title</th>\n",
              "      <th>company_name</th>\n",
              "      <th>job_type</th>\n",
              "    </tr>\n",
              "  </thead>\n",
              "  <tbody>\n",
              "    <tr>\n",
              "      <th>0</th>\n",
              "      <td>Data Analysis/Analytics Instructor (Excel - Po...</td>\n",
              "      <td>EpsilonAI -</td>\n",
              "      <td>Full Time</td>\n",
              "    </tr>\n",
              "    <tr>\n",
              "      <th>1</th>\n",
              "      <td>Data Analyst</td>\n",
              "      <td>Hands of Hope Physical Therapy &amp; Wellness -</td>\n",
              "      <td>Full Time</td>\n",
              "    </tr>\n",
              "    <tr>\n",
              "      <th>2</th>\n",
              "      <td>ERPNext Specialist/Data Analyst</td>\n",
              "      <td>Confidential -</td>\n",
              "      <td>Full Time</td>\n",
              "    </tr>\n",
              "    <tr>\n",
              "      <th>3</th>\n",
              "      <td>Reporting and Analysis Specialist</td>\n",
              "      <td>Wadi Degla Clubs Company -</td>\n",
              "      <td>Full Time</td>\n",
              "    </tr>\n",
              "    <tr>\n",
              "      <th>4</th>\n",
              "      <td>Data Analyst</td>\n",
              "      <td>Nugttah -</td>\n",
              "      <td>Full Time</td>\n",
              "    </tr>\n",
              "    <tr>\n",
              "      <th>5</th>\n",
              "      <td>Commercial Data Management Specialist</td>\n",
              "      <td>Hikma Pharmaceuticals -</td>\n",
              "      <td>Full Time</td>\n",
              "    </tr>\n",
              "    <tr>\n",
              "      <th>6</th>\n",
              "      <td>Data Analyst (On-Site)</td>\n",
              "      <td>Union Coop -</td>\n",
              "      <td>Full Time</td>\n",
              "    </tr>\n",
              "    <tr>\n",
              "      <th>7</th>\n",
              "      <td>Financial Planning and Analysis Section Head</td>\n",
              "      <td>Confidential -</td>\n",
              "      <td>Full Time</td>\n",
              "    </tr>\n",
              "    <tr>\n",
              "      <th>8</th>\n",
              "      <td>Senior Market Research &amp; Data Analyst</td>\n",
              "      <td>Onecard -</td>\n",
              "      <td>Full Time</td>\n",
              "    </tr>\n",
              "    <tr>\n",
              "      <th>9</th>\n",
              "      <td>Fleet Data Analyst</td>\n",
              "      <td>Seoudi Supermarket -</td>\n",
              "      <td>Full Time</td>\n",
              "    </tr>\n",
              "    <tr>\n",
              "      <th>10</th>\n",
              "      <td>Senior Data Modeler (KSA)</td>\n",
              "      <td>Ejada  -</td>\n",
              "      <td>Full Time</td>\n",
              "    </tr>\n",
              "    <tr>\n",
              "      <th>11</th>\n",
              "      <td>Big Data Business Analyst (KSA)</td>\n",
              "      <td>Ejada  -</td>\n",
              "      <td>Full Time</td>\n",
              "    </tr>\n",
              "    <tr>\n",
              "      <th>12</th>\n",
              "      <td>Data Scientist Manager</td>\n",
              "      <td>Tamweely -</td>\n",
              "      <td>Full Time</td>\n",
              "    </tr>\n",
              "    <tr>\n",
              "      <th>13</th>\n",
              "      <td>Data Management Specialist</td>\n",
              "      <td>Arabian Advanced Systems -</td>\n",
              "      <td>Full Time</td>\n",
              "    </tr>\n",
              "    <tr>\n",
              "      <th>14</th>\n",
              "      <td>Head of Data team</td>\n",
              "      <td>Edentech -</td>\n",
              "      <td>Full Time</td>\n",
              "    </tr>\n",
              "  </tbody>\n",
              "</table>\n",
              "</div>"
            ],
            "text/plain": [
              "                                            job_title  \\\n",
              "0   Data Analysis/Analytics Instructor (Excel - Po...   \n",
              "1                                        Data Analyst   \n",
              "2                     ERPNext Specialist/Data Analyst   \n",
              "3                   Reporting and Analysis Specialist   \n",
              "4                                        Data Analyst   \n",
              "5               Commercial Data Management Specialist   \n",
              "6                              Data Analyst (On-Site)   \n",
              "7        Financial Planning and Analysis Section Head   \n",
              "8               Senior Market Research & Data Analyst   \n",
              "9                                  Fleet Data Analyst   \n",
              "10                          Senior Data Modeler (KSA)   \n",
              "11                    Big Data Business Analyst (KSA)   \n",
              "12                             Data Scientist Manager   \n",
              "13                         Data Management Specialist   \n",
              "14                                  Head of Data team   \n",
              "\n",
              "                                   company_name   job_type  \n",
              "0                                   EpsilonAI -  Full Time  \n",
              "1   Hands of Hope Physical Therapy & Wellness -  Full Time  \n",
              "2                                Confidential -  Full Time  \n",
              "3                    Wadi Degla Clubs Company -  Full Time  \n",
              "4                                     Nugttah -  Full Time  \n",
              "5                       Hikma Pharmaceuticals -  Full Time  \n",
              "6                                  Union Coop -  Full Time  \n",
              "7                                Confidential -  Full Time  \n",
              "8                                     Onecard -  Full Time  \n",
              "9                          Seoudi Supermarket -  Full Time  \n",
              "10                                     Ejada  -  Full Time  \n",
              "11                                     Ejada  -  Full Time  \n",
              "12                                   Tamweely -  Full Time  \n",
              "13                   Arabian Advanced Systems -  Full Time  \n",
              "14                                   Edentech -  Full Time  "
            ]
          },
          "execution_count": 187,
          "metadata": {},
          "output_type": "execute_result"
        }
      ],
      "source": [
        "Wuzzuf"
      ]
    },
    {
      "cell_type": "code",
      "execution_count": null,
      "id": "85397e6d",
      "metadata": {
        "id": "85397e6d",
        "outputId": "ff42d5bc-a79a-45f5-e308-8d74d51bab3a"
      },
      "outputs": [
        {
          "data": {
            "text/html": [
              "<div>\n",
              "<style scoped>\n",
              "    .dataframe tbody tr th:only-of-type {\n",
              "        vertical-align: middle;\n",
              "    }\n",
              "\n",
              "    .dataframe tbody tr th {\n",
              "        vertical-align: top;\n",
              "    }\n",
              "\n",
              "    .dataframe thead th {\n",
              "        text-align: right;\n",
              "    }\n",
              "</style>\n",
              "<table border=\"1\" class=\"dataframe\">\n",
              "  <thead>\n",
              "    <tr style=\"text-align: right;\">\n",
              "      <th></th>\n",
              "      <th>job_title</th>\n",
              "      <th>company_name</th>\n",
              "      <th>job_type</th>\n",
              "    </tr>\n",
              "  </thead>\n",
              "  <tbody>\n",
              "    <tr>\n",
              "      <th>0</th>\n",
              "      <td>Data Analysis/Analytics Instructor (Excel - Po...</td>\n",
              "      <td>EpsilonAI -</td>\n",
              "      <td>Full Time</td>\n",
              "    </tr>\n",
              "    <tr>\n",
              "      <th>1</th>\n",
              "      <td>Data Analyst</td>\n",
              "      <td>Hands of Hope Physical Therapy &amp; Wellness -</td>\n",
              "      <td>Full Time</td>\n",
              "    </tr>\n",
              "    <tr>\n",
              "      <th>2</th>\n",
              "      <td>ERPNext Specialist/Data Analyst</td>\n",
              "      <td>Confidential -</td>\n",
              "      <td>Full Time</td>\n",
              "    </tr>\n",
              "    <tr>\n",
              "      <th>3</th>\n",
              "      <td>Reporting and Analysis Specialist</td>\n",
              "      <td>Wadi Degla Clubs Company -</td>\n",
              "      <td>Full Time</td>\n",
              "    </tr>\n",
              "    <tr>\n",
              "      <th>4</th>\n",
              "      <td>Data Analyst</td>\n",
              "      <td>Nugttah -</td>\n",
              "      <td>Full Time</td>\n",
              "    </tr>\n",
              "    <tr>\n",
              "      <th>5</th>\n",
              "      <td>Commercial Data Management Specialist</td>\n",
              "      <td>Hikma Pharmaceuticals -</td>\n",
              "      <td>Full Time</td>\n",
              "    </tr>\n",
              "    <tr>\n",
              "      <th>6</th>\n",
              "      <td>Data Analyst (On-Site)</td>\n",
              "      <td>Union Coop -</td>\n",
              "      <td>Full Time</td>\n",
              "    </tr>\n",
              "    <tr>\n",
              "      <th>7</th>\n",
              "      <td>Financial Planning and Analysis Section Head</td>\n",
              "      <td>Confidential -</td>\n",
              "      <td>Full Time</td>\n",
              "    </tr>\n",
              "    <tr>\n",
              "      <th>8</th>\n",
              "      <td>Senior Market Research &amp; Data Analyst</td>\n",
              "      <td>Onecard -</td>\n",
              "      <td>Full Time</td>\n",
              "    </tr>\n",
              "    <tr>\n",
              "      <th>9</th>\n",
              "      <td>Fleet Data Analyst</td>\n",
              "      <td>Seoudi Supermarket -</td>\n",
              "      <td>Full Time</td>\n",
              "    </tr>\n",
              "    <tr>\n",
              "      <th>10</th>\n",
              "      <td>Senior Data Modeler (KSA)</td>\n",
              "      <td>Ejada  -</td>\n",
              "      <td>Full Time</td>\n",
              "    </tr>\n",
              "    <tr>\n",
              "      <th>11</th>\n",
              "      <td>Big Data Business Analyst (KSA)</td>\n",
              "      <td>Ejada  -</td>\n",
              "      <td>Full Time</td>\n",
              "    </tr>\n",
              "    <tr>\n",
              "      <th>12</th>\n",
              "      <td>Data Scientist Manager</td>\n",
              "      <td>Tamweely -</td>\n",
              "      <td>Full Time</td>\n",
              "    </tr>\n",
              "    <tr>\n",
              "      <th>13</th>\n",
              "      <td>Data Management Specialist</td>\n",
              "      <td>Arabian Advanced Systems -</td>\n",
              "      <td>Full Time</td>\n",
              "    </tr>\n",
              "    <tr>\n",
              "      <th>14</th>\n",
              "      <td>Head of Data team</td>\n",
              "      <td>Edentech -</td>\n",
              "      <td>Full Time</td>\n",
              "    </tr>\n",
              "  </tbody>\n",
              "</table>\n",
              "</div>"
            ],
            "text/plain": [
              "                                            job_title  \\\n",
              "0   Data Analysis/Analytics Instructor (Excel - Po...   \n",
              "1                                        Data Analyst   \n",
              "2                     ERPNext Specialist/Data Analyst   \n",
              "3                   Reporting and Analysis Specialist   \n",
              "4                                        Data Analyst   \n",
              "5               Commercial Data Management Specialist   \n",
              "6                              Data Analyst (On-Site)   \n",
              "7        Financial Planning and Analysis Section Head   \n",
              "8               Senior Market Research & Data Analyst   \n",
              "9                                  Fleet Data Analyst   \n",
              "10                          Senior Data Modeler (KSA)   \n",
              "11                    Big Data Business Analyst (KSA)   \n",
              "12                             Data Scientist Manager   \n",
              "13                         Data Management Specialist   \n",
              "14                                  Head of Data team   \n",
              "\n",
              "                                   company_name   job_type  \n",
              "0                                   EpsilonAI -  Full Time  \n",
              "1   Hands of Hope Physical Therapy & Wellness -  Full Time  \n",
              "2                                Confidential -  Full Time  \n",
              "3                    Wadi Degla Clubs Company -  Full Time  \n",
              "4                                     Nugttah -  Full Time  \n",
              "5                       Hikma Pharmaceuticals -  Full Time  \n",
              "6                                  Union Coop -  Full Time  \n",
              "7                                Confidential -  Full Time  \n",
              "8                                     Onecard -  Full Time  \n",
              "9                          Seoudi Supermarket -  Full Time  \n",
              "10                                     Ejada  -  Full Time  \n",
              "11                                     Ejada  -  Full Time  \n",
              "12                                   Tamweely -  Full Time  \n",
              "13                   Arabian Advanced Systems -  Full Time  \n",
              "14                                   Edentech -  Full Time  "
            ]
          },
          "execution_count": 188,
          "metadata": {},
          "output_type": "execute_result"
        }
      ],
      "source": [
        "Wuzzuf"
      ]
    },
    {
      "cell_type": "code",
      "execution_count": null,
      "id": "6d8efcef",
      "metadata": {
        "id": "6d8efcef"
      },
      "outputs": [],
      "source": []
    },
    {
      "cell_type": "code",
      "execution_count": null,
      "id": "bf5bdfc7",
      "metadata": {
        "id": "bf5bdfc7"
      },
      "outputs": [],
      "source": []
    }
  ],
  "metadata": {
    "kernelspec": {
      "display_name": "Python 3 (ipykernel)",
      "language": "python",
      "name": "python3"
    },
    "language_info": {
      "codemirror_mode": {
        "name": "ipython",
        "version": 3
      },
      "file_extension": ".py",
      "mimetype": "text/x-python",
      "name": "python",
      "nbconvert_exporter": "python",
      "pygments_lexer": "ipython3",
      "version": "3.9.7"
    },
    "colab": {
      "provenance": [],
      "include_colab_link": true
    }
  },
  "nbformat": 4,
  "nbformat_minor": 5
}